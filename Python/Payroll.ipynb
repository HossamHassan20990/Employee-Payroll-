{
 "cells": [
  {
   "cell_type": "code",
   "execution_count": null,
   "metadata": {},
   "outputs": [
    {
     "data": {
      "text/plain": [
       "'E:\\\\upwork\\\\Excel_payroll project\\\\dummy_hr_payroll_data_2022_2025.csv'"
      ]
     },
     "execution_count": 10,
     "metadata": {},
     "output_type": "execute_result"
    }
   ],
   "source": [
    "import pandas as pd\n",
    "import random\n",
    "\n",
    "# Define years and months\n",
    "years = [2022, 2023, 2024, 2025]\n",
    "months = list(range(1, 13))  # 1 to 12 for months\n",
    "num_rows = len(years) * len(months)\n",
    "\n",
    "# Create dataset\n",
    "extended_data_2022 = {\n",
    "    \"Year\": [year for year in years for _ in months],\n",
    "    \"Month\": months * len(years),\n",
    "    \"Management\": [random.randint(500000, 1500000) for _ in range(num_rows)],\n",
    "    \"Administration Staff\": [random.randint(1000000, 3000000) for _ in range(num_rows)],\n",
    "    \"Sales Department\": [random.randint(2000000, 5000000) for _ in range(num_rows)],\n",
    "    \"Production Department\": [random.randint(3000000, 7000000) for _ in range(num_rows)],\n",
    "    \"Logistics Department\": [random.randint(500000, 2000000) for _ in range(num_rows)]\n",
    "}\n",
    "\n",
    "# Payroll breakdown\n",
    "payroll_cost_data = {\n",
    "    \"Basic Payroll Percentage\": [random.uniform(50, 70) for _ in range(num_rows)],\n",
    "    \"Bonus and Prizes Percentage\": [random.uniform(5, 15) for _ in range(num_rows)],\n",
    "    \"Payroll Taxes Percentage\": [random.uniform(15, 25) for _ in range(num_rows)]\n",
    "}\n",
    "\n",
    "# Payroll funds\n",
    "payroll_fund_data = {\n",
    "    \"Payroll Number\": [random.randint(50000, 150000) for _ in range(num_rows)],\n",
    "    \"Annual Payroll Plan Number\": [random.randint(600000, 1800000) for _ in range(num_rows)]\n",
    "}\n",
    "\n",
    "# Work hour performance\n",
    "payroll_whp_data = {\n",
    "    \"Standard Hours Percentage\": [random.uniform(80, 100) for _ in range(num_rows)],\n",
    "    \"Actual Hours Percentage\": [random.uniform(75, 100) for _ in range(num_rows)]\n",
    "}\n",
    "\n",
    "# Payroll distribution by location\n",
    "pdl_data = {\n",
    "    \"Head Office Percentage\": [random.uniform(20, 40) for _ in range(num_rows)],\n",
    "    \"Regional Office Percentage\": [random.uniform(15, 30) for _ in range(num_rows)],\n",
    "    \"Regional Branches Percentage\": [random.uniform(10, 25) for _ in range(num_rows)],\n",
    "    \"Remote Employee Percentage\": [random.uniform(5, 15) for _ in range(num_rows)],\n",
    "    \"Outsourcing Percentage\": [random.uniform(5, 20) for _ in range(num_rows)]\n",
    "}\n",
    "\n",
    "# Employee performance metrics\n",
    "employee_perf_kpi = {f\"Performance {chr(65+i)} Percentage\": [random.uniform(50, 100) for _ in range(num_rows)] for i in range(5)}\n",
    "employee_perf_comp = {f\"Compensation {chr(65+i)} Percentage\": [random.uniform(50, 100) for _ in range(num_rows)] for i in range(5)}\n",
    "\n",
    "# Payroll forecast per weekday\n",
    "weekdays = [\"SU\", \"MO\", \"TU\", \"WE\", \"TH\", \"FR\", \"SA\"]\n",
    "payroll_forecast_planned = {f\"Planned Payroll {day}\": [random.randint(1000, 5000) for _ in range(num_rows)] for day in weekdays}\n",
    "payroll_forecast_actual = {f\"Actual Payroll {day}\": [random.randint(1000, 5000) for _ in range(num_rows)] for day in weekdays}\n",
    "\n",
    "# Top 5 Employees - Base Salary and Bonuses\n",
    "top5_bonus = {f\"Bonus EMP{i+1}\": [random.randint(500, 5000) for _ in range(num_rows)] for i in range(5)}\n",
    "top5_base_salary = {f\"Base Salary EMP{i+1}\": [random.randint(3000, 15000) for _ in range(num_rows)] for i in range(5)}\n",
    "\n",
    "# Combine all datasets\n",
    "df_extended_2022 = pd.DataFrame({\n",
    "    **extended_data_2022, **payroll_cost_data, **payroll_fund_data, **payroll_whp_data,\n",
    "    **pdl_data, **employee_perf_kpi, **employee_perf_comp, **payroll_forecast_planned,\n",
    "    **payroll_forecast_actual, **top5_bonus, **top5_base_salary\n",
    "})\n",
    "\n",
    "# Save CSV file\n",
    "file_path_extended_2022 = r\"file path in your computer\\dummy_hr_payroll_data_2022_2025.csv\"\n",
    "df_extended_2022.to_csv(file_path_extended_2022, index=False)\n",
    "\n",
    "file_path_extended_2022\n"
   ]
  }
 ],
 "metadata": {
  "kernelspec": {
   "display_name": "base",
   "language": "python",
   "name": "python3"
  },
  "language_info": {
   "codemirror_mode": {
    "name": "ipython",
    "version": 3
   },
   "file_extension": ".py",
   "mimetype": "text/x-python",
   "name": "python",
   "nbconvert_exporter": "python",
   "pygments_lexer": "ipython3",
   "version": "3.12.7"
  }
 },
 "nbformat": 4,
 "nbformat_minor": 2
}
